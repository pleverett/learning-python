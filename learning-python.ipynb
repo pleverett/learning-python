{
 "cells": [
  {
   "cell_type": "code",
   "execution_count": 2,
   "metadata": {},
   "outputs": [
    {
     "name": "stdout",
     "output_type": "stream",
     "text": [
      "4.5 Hello\n"
     ]
    }
   ],
   "source": [
    "print(4.5, 'Hello')\n"
   ]
  }
 ],
 "metadata": {
  "interpreter": {
   "hash": "73818c382e83168ae0f1681c609453ea3d44be3180d9cd901666721fd0d35de4"
  },
  "kernelspec": {
   "display_name": "Python 3.9.7 ('env39')",
   "language": "python",
   "name": "python3"
  },
  "language_info": {
   "codemirror_mode": {
    "name": "ipython",
    "version": 3
   },
   "file_extension": ".py",
   "mimetype": "text/x-python",
   "name": "python",
   "nbconvert_exporter": "python",
   "pygments_lexer": "ipython3",
   "version": "3.9.7"
  },
  "orig_nbformat": 4
 },
 "nbformat": 4,
 "nbformat_minor": 2
}
